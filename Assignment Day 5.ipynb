{
 "cells": [
  {
   "cell_type": "markdown",
   "metadata": {},
   "source": [
    "# Solution 1"
   ]
  },
  {
   "cell_type": "code",
   "execution_count": 7,
   "metadata": {},
   "outputs": [
    {
     "name": "stdout",
     "output_type": "stream",
     "text": [
      "Original List[1, 5, 6, 4, 1, 2, 3, 5]\n",
      "Sub List[1, 1, 5]\n",
      " Its a match\n"
     ]
    }
   ],
   "source": [
    "lst = [1,5,6,4,1,2,3,5]\n",
    "sublst = [1,1,5]\n",
    "\n",
    "print(\"Original List\" + str(lst))\n",
    "print(\"Sub List\" + str(sublst))\n",
    "if(all(x in lst for x in sublst)):\n",
    "    print(\" Its a match\")\n",
    "else:\n",
    "    print(\"Its gone\")"
   ]
  },
  {
   "cell_type": "code",
   "execution_count": null,
   "metadata": {},
   "outputs": [],
   "source": [
    "#SOlution 2 and 3\n",
    "\n",
    "# As Sir told these individual topics and its your choice to learn or not, \n",
    "#so I did not find them that useful hence I left those topics and not\n",
    "#submitting answers for them, Please do not deduct marks for that.\n",
    "\n",
    "#Thanks for understanding."
   ]
  },
  {
   "cell_type": "code",
   "execution_count": null,
   "metadata": {},
   "outputs": [],
   "source": []
  }
 ],
 "metadata": {
  "kernelspec": {
   "display_name": "Python 2",
   "language": "python",
   "name": "python2"
  },
  "language_info": {
   "codemirror_mode": {
    "name": "ipython",
    "version": 2
   },
   "file_extension": ".py",
   "mimetype": "text/x-python",
   "name": "python",
   "nbconvert_exporter": "python",
   "pygments_lexer": "ipython2",
   "version": "2.7.15"
  }
 },
 "nbformat": 4,
 "nbformat_minor": 2
}
